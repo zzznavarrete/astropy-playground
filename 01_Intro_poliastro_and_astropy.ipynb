{
  "nbformat": 4,
  "nbformat_minor": 0,
  "metadata": {
    "colab": {
      "name": "01 - Intro poliastro and astropy.ipynb",
      "provenance": [],
      "collapsed_sections": [],
      "authorship_tag": "ABX9TyNWGPwPo8oXNoBVrzOE8HK8",
      "include_colab_link": true
    },
    "kernelspec": {
      "name": "python3",
      "display_name": "Python 3"
    }
  },
  "cells": [
    {
      "cell_type": "markdown",
      "metadata": {
        "id": "view-in-github",
        "colab_type": "text"
      },
      "source": [
        "<a href=\"https://colab.research.google.com/github/zzznavarrete/astropy-playground/blob/master/01_Intro_poliastro_and_astropy.ipynb\" target=\"_parent\"><img src=\"https://colab.research.google.com/assets/colab-badge.svg\" alt=\"Open In Colab\"/></a>"
      ]
    },
    {
      "cell_type": "markdown",
      "metadata": {
        "id": "-Wc-HZEpePs3",
        "colab_type": "text"
      },
      "source": [
        "# Importando librerías"
      ]
    },
    {
      "cell_type": "code",
      "metadata": {
        "id": "H344-7LabfUi",
        "colab_type": "code",
        "colab": {}
      },
      "source": [
        "pip install poliastro"
      ],
      "execution_count": 0,
      "outputs": []
    },
    {
      "cell_type": "code",
      "metadata": {
        "id": "CLYstU76bSdq",
        "colab_type": "code",
        "colab": {}
      },
      "source": [
        "import numpy as np\n",
        "import matplotlib.pyplot as plt\n",
        "import matplotlib as mpl\n",
        "plt.ion() # To inmediatly show plots\n",
        "\n",
        "from astropy import units as u\n",
        "\n",
        "from poliastro.bodies import Earth, Mars, Sun\n",
        "from poliastro.twobody import Orbit\n",
        "\n",
        "\n",
        "plt.style.use(\"seaborn\") # Recommended"
      ],
      "execution_count": 0,
      "outputs": []
    },
    {
      "cell_type": "markdown",
      "metadata": {
        "id": "F6xuIAtGeXvU",
        "colab_type": "text"
      },
      "source": [
        "# Primeros pasos"
      ]
    },
    {
      "cell_type": "code",
      "metadata": {
        "id": "ZKvUCiDVcapH",
        "colab_type": "code",
        "colab": {}
      },
      "source": [
        "# Definiendo una órbita.\n",
        "r = [-6045, -3490, 2500] * u.km # Vector posicion\n",
        "v = [-3.457, 6.618, 2.533] * u.km / u.s # Vector velocidad\n",
        "# r <-- kilometers"
      ],
      "execution_count": 0,
      "outputs": []
    },
    {
      "cell_type": "code",
      "metadata": {
        "id": "iNC3tttNclDl",
        "colab_type": "code",
        "colab": {}
      },
      "source": [
        "# Creando objeto orbit. \n",
        "ss = Orbit.from_vectors(Earth, r, v)\n",
        "# Asume que el plano de referencia es el ecuador.\n",
        "# Es una orbita que tiene X = altura minima, Y = Altura máxina, Z = Inclinación sobre plano de referencia"
      ],
      "execution_count": 0,
      "outputs": []
    },
    {
      "cell_type": "code",
      "metadata": {
        "id": "0V6Hap7Cc5EC",
        "colab_type": "code",
        "outputId": "69d48f31-a8c3-4be8-8d42-782a1384f3cb",
        "colab": {
          "base_uri": "https://localhost:8080/",
          "height": 35
        }
      },
      "source": [
        "# Si no le defino un tiempo, astropy asume la sgte fecha\n",
        "ss.epoch.iso"
      ],
      "execution_count": 0,
      "outputs": [
        {
          "output_type": "execute_result",
          "data": {
            "text/plain": [
              "'2000-01-01 12:00:00.000'"
            ]
          },
          "metadata": {
            "tags": []
          },
          "execution_count": 11
        }
      ]
    },
    {
      "cell_type": "code",
      "metadata": {
        "id": "OI5kQ8qNdMqn",
        "colab_type": "code",
        "colab": {}
      },
      "source": [
        "# Podemos definirle un tiempo mediente el siguiente import\n",
        "from astropy.time import Time "
      ],
      "execution_count": 0,
      "outputs": []
    },
    {
      "cell_type": "code",
      "metadata": {
        "id": "x0okay5_do6a",
        "colab_type": "code",
        "outputId": "df54d1c9-7c5a-4442-b7ed-89a30be59b7a",
        "colab": {
          "base_uri": "https://localhost:8080/",
          "height": 35
        }
      },
      "source": [
        "# Le defino la misma órbita anterior pero \n",
        "ss = Orbit.from_vectors(Earth, r, v, epoch=Time.now())"
      ],
      "execution_count": 0,
      "outputs": [
        {
          "output_type": "execute_result",
          "data": {
            "text/plain": [
              "7283 x 10293 km x 153.2 deg (GCRS) orbit around Earth (♁) at epoch 2020-05-22 03:39:49.150850 (UTC)"
            ]
          },
          "metadata": {
            "tags": []
          },
          "execution_count": 14
        }
      ]
    },
    {
      "cell_type": "code",
      "metadata": {
        "id": "wtzvk_Kvdy77",
        "colab_type": "code",
        "outputId": "2d455d3f-76cb-4e6c-f135-aebcea05f662",
        "colab": {
          "base_uri": "https://localhost:8080/",
          "height": 428
        }
      },
      "source": [
        "# Dibujando la órbita\n",
        "ss.plot()"
      ],
      "execution_count": 0,
      "outputs": [
        {
          "output_type": "execute_result",
          "data": {
            "text/plain": [
              "[<matplotlib.lines.Line2D at 0x7f8a7efaf6d8>,\n",
              " <matplotlib.lines.Line2D at 0x7f8a7eedd0f0>]"
            ]
          },
          "metadata": {
            "tags": []
          },
          "execution_count": 25
        },
        {
          "output_type": "display_data",
          "data": {
            "image/png": "[encoded data removed]",
            "text/plain": [
              "<Figure size 1008x432 with 1 Axes>"
            ]
          },
          "metadata": {
            "tags": []
          }
        }
      ]
    },
    {
      "cell_type": "code",
      "metadata": {
        "id": "u7DAXylqeFgX",
        "colab_type": "code",
        "outputId": "33ed7565-560d-4510-a349-d6e0c3d40e75",
        "colab": {
          "base_uri": "https://localhost:8080/",
          "height": 35
        }
      },
      "source": [
        "# Definiendo un objeto vía parámetros. \n",
        "'''\n",
        "Semimajor axis (𝑎).\n",
        "\n",
        "Eccentricity (𝑒).\n",
        "\n",
        "Inclination (𝑖).\n",
        "\n",
        "Right ascension of the ascending node (Ω).\n",
        "\n",
        "Argument of pericenter (𝜔).\n",
        "\n",
        "True anomaly (𝜈).\n",
        "'''\n",
        "# Data for Mars at J2000 from JPL HORIZONS\n",
        "a = 1.523679 * u.AU\n",
        "ecc = 0.093315 * u.one\n",
        "inc = 1.85 * u.deg\n",
        "raan = 49.562 * u.deg\n",
        "argp = 286.537 * u.deg\n",
        "nu = 23.33 * u.deg\n",
        "\n",
        "orb = Orbit.from_classical(Sun, a, ecc, inc, raan, argp, nu)\n",
        "\n",
        "orb\n"
      ],
      "execution_count": 0,
      "outputs": [
        {
          "output_type": "execute_result",
          "data": {
            "text/plain": [
              "1 x 2 AU x 1.9 deg (HCRS) orbit around Sun (☉) at epoch J2000.000 (TT)"
            ]
          },
          "metadata": {
            "tags": []
          },
          "execution_count": 29
        }
      ]
    },
    {
      "cell_type": "code",
      "metadata": {
        "id": "ZgERkZbieGyZ",
        "colab_type": "code",
        "outputId": "ad6c482d-1b58-48ed-b1c3-01134fb9e518",
        "colab": {
          "base_uri": "https://localhost:8080/",
          "height": 440
        }
      },
      "source": [
        "# Órbita al rededor del sol, de marte\n",
        "orb.plot()"
      ],
      "execution_count": 0,
      "outputs": [
        {
          "output_type": "execute_result",
          "data": {
            "text/plain": [
              "[<matplotlib.lines.Line2D at 0x7f8a81873710>,\n",
              " <matplotlib.lines.Line2D at 0x7f8a81873358>]"
            ]
          },
          "metadata": {
            "tags": []
          },
          "execution_count": 28
        },
        {
          "output_type": "display_data",
          "data": {
            "image/png": "[encoded data removed]",
            "text/plain": [
              "<Figure size 1008x432 with 1 Axes>"
            ]
          },
          "metadata": {
            "tags": []
          }
        }
      ]
    },
    {
      "cell_type": "markdown",
      "metadata": {
        "id": "k9Xz-_QLhs0u",
        "colab_type": "text"
      },
      "source": [
        "# Propagación\n",
        "### Avanzar en el tiempo\n",
        "#\n",
        "Problema del valor inicial. Yo se de donde parto, yo se cuanto me voy a mover por lo tanto, quiero saber donde voy a estar."
      ]
    },
    {
      "cell_type": "code",
      "metadata": {
        "id": "-CApieYlhu31",
        "colab_type": "code",
        "colab": {}
      },
      "source": [
        "# Importando data de ejemplo de la ISS\n",
        "from poliastro.examples import iss"
      ],
      "execution_count": 0,
      "outputs": []
    },
    {
      "cell_type": "code",
      "metadata": {
        "id": "m0xLAMK2iAjN",
        "colab_type": "code",
        "outputId": "433791f8-498c-4344-dd64-c584539c01d1",
        "colab": {
          "base_uri": "https://localhost:8080/",
          "height": 35
        }
      },
      "source": [
        "# Imprimiendo datos de la ISS\n",
        "iss"
      ],
      "execution_count": 0,
      "outputs": [
        {
          "output_type": "execute_result",
          "data": {
            "text/plain": [
              "6772 x 6790 km x 51.6 deg (GCRS) orbit around Earth (♁) at epoch 2013-03-18 12:00:00.000 (UTC)"
            ]
          },
          "metadata": {
            "tags": []
          },
          "execution_count": 33
        }
      ]
    },
    {
      "cell_type": "code",
      "metadata": {
        "id": "O3_ifPaiiA52",
        "colab_type": "code",
        "outputId": "722070a8-860a-4485-f1ca-6b212dcf26ea",
        "colab": {
          "base_uri": "https://localhost:8080/",
          "height": 35
        }
      },
      "source": [
        "# Si lo avanzamos 30 minutos en el tiempo la orbita será la misma porque RECORDAR: La orbita no cambia \n",
        "# (lo que si cambia es la hora btw)\n",
        "iss.propagate(30 * u.min)"
      ],
      "execution_count": 0,
      "outputs": [
        {
          "output_type": "execute_result",
          "data": {
            "text/plain": [
              "6772 x 6790 km x 51.6 deg (GCRS) orbit around Earth (♁) at epoch 2013-03-18 12:30:00.000 (UTC)"
            ]
          },
          "metadata": {
            "tags": []
          },
          "execution_count": 36
        }
      ]
    },
    {
      "cell_type": "code",
      "metadata": {
        "id": "oMot85I5iHhM",
        "colab_type": "code",
        "outputId": "a5eb200d-1efa-4171-bb95-412950ea9abf",
        "colab": {
          "base_uri": "https://localhost:8080/",
          "height": 54
        }
      },
      "source": [
        " # La anomalía verdadera SI cambia\n",
        "print(\"Propagación(0 min) = \",iss.nu / u.rad)\n",
        "print(\"Propagación(30 min) = \",iss.propagate(30 * u.min).nu / u.rad)"
      ],
      "execution_count": 0,
      "outputs": [
        {
          "output_type": "stream",
          "text": [
            "Propagación(0 min) =  0.8132502092308282\n",
            "Propagación(30 min) =  2.847346481536867\n"
          ],
          "name": "stdout"
        }
      ]
    },
    {
      "cell_type": "markdown",
      "metadata": {
        "id": "qxNARg9qjJHU",
        "colab_type": "text"
      },
      "source": [
        "# Maniobras"
      ]
    },
    {
      "cell_type": "code",
      "metadata": {
        "id": "z0NmKVRGiq_T",
        "colab_type": "code",
        "colab": {}
      },
      "source": [
        "from poliastro.maneuver import Maneuver\n"
      ],
      "execution_count": 0,
      "outputs": []
    },
    {
      "cell_type": "code",
      "metadata": {
        "id": "grGwuOOyjNLL",
        "colab_type": "code",
        "outputId": "1babb843-116a-4470-fc57-6b2668f99198",
        "colab": {
          "base_uri": "https://localhost:8080/",
          "height": 35
        }
      },
      "source": [
        "ss_i = Orbit.circular(Earth, alt=700 * u.km)\n",
        "ss_i"
      ],
      "execution_count": 0,
      "outputs": [
        {
          "output_type": "execute_result",
          "data": {
            "text/plain": [
              "7078 x 7078 km x 0.0 deg (GCRS) orbit around Earth (♁) at epoch J2000.000 (TT)"
            ]
          },
          "metadata": {
            "tags": []
          },
          "execution_count": 54
        }
      ]
    },
    {
      "cell_type": "code",
      "metadata": {
        "id": "ASucrrk9jSw9",
        "colab_type": "code",
        "colab": {}
      },
      "source": [
        "# Transferencia de Hohmann entre un punto y otro.\n",
        "'''\n",
        "Transferir entre 2 órbitas circulares, gastanto la mínima cantidad de combustible\n",
        "'''\n",
        "# Maniobra típica: Ir de órbita baja (o de aparcamiento) a órbita geoestacionaria\n",
        "hoh = Maneuver.hohmann(ss_i,36000 * u.km)"
      ],
      "execution_count": 0,
      "outputs": []
    },
    {
      "cell_type": "code",
      "metadata": {
        "id": "xU1YOrUOjqM6",
        "colab_type": "code",
        "outputId": "953e98e6-25cb-4a66-ac69-654edd1ef2b9",
        "colab": {
          "base_uri": "https://localhost:8080/",
          "height": 34
        }
      },
      "source": [
        "# Obteniendo el coste total de la maniobra, está expresado en km/s\n",
        "hoh.get_total_cost()"
      ],
      "execution_count": 0,
      "outputs": [
        {
          "output_type": "execute_result",
          "data": {
            "text/latex": "$3.6173999 \\; \\mathrm{\\frac{km}{s}}$",
            "text/plain": [
              "<Quantity 3.6173999 km / s>"
            ]
          },
          "metadata": {
            "tags": []
          },
          "execution_count": 62
        }
      ]
    },
    {
      "cell_type": "code",
      "metadata": {
        "id": "B75UoZ57jvpm",
        "colab_type": "code",
        "outputId": "a34bd3d7-373c-4cb1-af54-c292d43ee8f7",
        "colab": {
          "base_uri": "https://localhost:8080/",
          "height": 34
        }
      },
      "source": [
        "# Obteniendo el tiempo en horas\n",
        "hoh.get_total_time().to(u.h)"
      ],
      "execution_count": 0,
      "outputs": [
        {
          "output_type": "execute_result",
          "data": {
            "text/latex": "$4.3693703 \\; \\mathrm{h}$",
            "text/plain": [
              "<Quantity 4.36937032 h>"
            ]
          },
          "metadata": {
            "tags": []
          },
          "execution_count": 64
        }
      ]
    },
    {
      "cell_type": "markdown",
      "metadata": {
        "id": "vG6Bsmo6ojoy",
        "colab_type": "text"
      },
      "source": [
        "# Lambert problem\n",
        "\n",
        "Ahora empiezo aquí y quiero terminar allí. ¿Cómo llego?"
      ]
    },
    {
      "cell_type": "code",
      "metadata": {
        "id": "wuG-bIZEonc7",
        "colab_type": "code",
        "colab": {}
      },
      "source": [
        "# Simulando la orbita de la misión curiosity de NASA"
      ],
      "execution_count": 0,
      "outputs": []
    },
    {
      "cell_type": "code",
      "metadata": {
        "id": "xF8w-oXFpAy6",
        "colab_type": "code",
        "colab": {}
      },
      "source": [
        "# Fecha de lanzamiento y llegada\n",
        "date_launch = Time('2011-11-26 15:02', scale='utc')\n",
        "date_arrival = Time('2012-08-06 05:17', scale='utc')"
      ],
      "execution_count": 0,
      "outputs": []
    },
    {
      "cell_type": "code",
      "metadata": {
        "id": "3HWRW1oLpO1d",
        "colab_type": "code",
        "outputId": "6d6059c4-ed3a-4d53-89e5-8a0551943811",
        "colab": {
          "base_uri": "https://localhost:8080/",
          "height": 314
        }
      },
      "source": [
        "# Órbita de lanzamiento y llegada\n",
        "ss0 = Orbit.from_body_ephem(Earth, date_launch)\n",
        "ssf = Orbit.from_body_ephem(Mars, date_arrival)"
      ],
      "execution_count": 0,
      "outputs": [
        {
          "output_type": "stream",
          "text": [
            "/usr/local/lib/python3.6/dist-packages/ipykernel_launcher.py:2: DeprecationWarning:\n",
            "\n",
            "Orbit.from_body_ephem is deprecated and will be removed in a future release, use Ephem.from_body instead\n",
            "\n",
            "/usr/local/lib/python3.6/dist-packages/ipykernel_launcher.py:2: TimeScaleWarning:\n",
            "\n",
            "Input time was converted to scale='tdb' with value 2011-11-26 15:03:06.183. Use Time(..., scale='tdb') instead.\n",
            "\n",
            "/usr/local/lib/python3.6/dist-packages/ipykernel_launcher.py:3: DeprecationWarning:\n",
            "\n",
            "Orbit.from_body_ephem is deprecated and will be removed in a future release, use Ephem.from_body instead\n",
            "\n",
            "/usr/local/lib/python3.6/dist-packages/ipykernel_launcher.py:3: TimeScaleWarning:\n",
            "\n",
            "Input time was converted to scale='tdb' with value 2012-08-06 05:18:07.183. Use Time(..., scale='tdb') instead.\n",
            "\n"
          ],
          "name": "stderr"
        }
      ]
    },
    {
      "cell_type": "code",
      "metadata": {
        "id": "R7ZFyatKpo1_",
        "colab_type": "code",
        "outputId": "91e6911a-f323-4745-da4d-35410c2f8978",
        "colab": {
          "base_uri": "https://localhost:8080/",
          "height": 35
        }
      },
      "source": [
        "# Tiempo total de vuelo\n",
        "tof = date_arrival - date_launch\n",
        "tof"
      ],
      "execution_count": 0,
      "outputs": [
        {
          "output_type": "execute_result",
          "data": {
            "text/plain": [
              "<TimeDelta object: scale='tai' format='jd' value=253.59376157407408>"
            ]
          },
          "metadata": {
            "tags": []
          },
          "execution_count": 82
        }
      ]
    },
    {
      "cell_type": "code",
      "metadata": {
        "id": "2RYP_Dc-pUZJ",
        "colab_type": "code",
        "colab": {}
      },
      "source": [
        "# \n",
        "from poliastro import iod"
      ],
      "execution_count": 0,
      "outputs": []
    },
    {
      "cell_type": "code",
      "metadata": {
        "id": "AhgZCZ-cpdDT",
        "colab_type": "code",
        "outputId": "496d44c7-da5d-4159-a825-f8eee7774f62",
        "colab": {
          "base_uri": "https://localhost:8080/",
          "height": 54
        }
      },
      "source": [
        "# parámetro orbitacional del sol, posicion inicial, posicion final y tiempo de vuelo.\n",
        "(v0, v),= iod.lambert(Sun.k, ss0.r, ssf.r, tof)\n",
        "print(\"Velocidad inicial =\",v0)\n",
        "print(\"Velociadad final=\", v)"
      ],
      "execution_count": 0,
      "outputs": [
        {
          "output_type": "stream",
          "text": [
            "Velocidad inicial = [-29.29122325  14.53256824   5.41593207] km / s\n",
            "Velociadad final= [ 17.61580401 -10.99860504  -4.20763857] km / s\n"
          ],
          "name": "stdout"
        }
      ]
    },
    {
      "cell_type": "code",
      "metadata": {
        "id": "KhHbUPDKpeF0",
        "colab_type": "code",
        "colab": {}
      },
      "source": [
        ""
      ],
      "execution_count": 0,
      "outputs": []
    }
  ]
}